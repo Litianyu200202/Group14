{
 "cells": [
  {
   "cell_type": "markdown",
   "id": "7c3e98a3",
   "metadata": {},
   "source": [
    "# 🧱 Track B – Contract Retrieval Demo (No API Version)\n",
    "\n",
    "This notebook demonstrates **A group (LLM & RAG)** logic **without using OpenAI API**.\n",
    "\n",
    "✅ It extracts and splits the contract PDF.\n",
    "✅ Generates **random embeddings** instead of calling API (no cost).\n",
    "✅ Builds a FAISS index for similarity search.\n",
    "✅ Allows you to ask questions and retrieve the most relevant clauses.\n",
    "\n",
    "---\n",
    "本 Notebook 演示 **A 组的合同检索流程（不使用 API）**。\n",
    "\n",
    "✅ 从 PDF 合同读取并分块。\n",
    "✅ 使用随机向量模拟嵌入（无需花费额度）。\n",
    "✅ 用 FAISS 建立相似度索引。\n",
    "✅ 可输入问题，检索最相关的合同条款。\n"
   ]
  },
  {
   "cell_type": "markdown",
   "id": "82b0b80a",
   "metadata": {},
   "source": [
    "## 1️⃣ Import libraries / 导入依赖"
   ]
  },
  {
   "cell_type": "code",
   "execution_count": 7,
   "id": "b6eeb6e7",
   "metadata": {},
   "outputs": [
    {
     "name": "stdout",
     "output_type": "stream",
     "text": [
      "✅ Libraries imported successfully\n"
     ]
    }
   ],
   "source": [
    "import pdfplumber, re, numpy as np, faiss\n",
    "import pandas as pd\n",
    "from IPython.display import display\n",
    "\n",
    "print('✅ Libraries imported successfully')"
   ]
  },
  {
   "cell_type": "markdown",
   "id": "7df190c7",
   "metadata": {},
   "source": [
    "## 2️⃣ Extract and split contract / 读取并分块合同"
   ]
  },
  {
   "cell_type": "code",
   "execution_count": 8,
   "id": "6477afbb",
   "metadata": {},
   "outputs": [
    {
     "name": "stdout",
     "output_type": "stream",
     "text": [
      "📄 Extracted 50 text chunks from contract.\n",
      "\n",
      "Example clause preview:\n",
      "TENANCY AGREEMENT (PRIVATE\n",
      "CONDO/APARTMENT)\n",
      "Page 1 of 6 LEG-AG-17.16 28/07/23\n",
      "Disclaimer: This is a general document which may not be appropriate for use in all cases. When in doubt, please seek\n",
      "legal advice. In the event of a dispute, the Landlord/Tenant agree not to hold Sterling Properties Pte Lt ...\n"
     ]
    }
   ],
   "source": [
    "def extract_contract_chunks(pdf_path):\n",
    "    \"\"\"\n",
    "    Read PDF and split text by clauses.\n",
    "    读取 PDF 文件，并按条款（Clause 或 (a)(b)）拆分为文本块。\n",
    "    \"\"\"\n",
    "    chunks = []\n",
    "    with pdfplumber.open(pdf_path) as pdf:\n",
    "        for page in pdf.pages:\n",
    "            text = page.extract_text()\n",
    "            if not text:\n",
    "                continue\n",
    "            parts = re.split(r'\\n(?=Clause\\s*\\d|\\([a-z]\\))', text)\n",
    "            for p in parts:\n",
    "                clean = p.strip()\n",
    "                if len(clean) > 120:\n",
    "                    chunks.append(clean)\n",
    "    print(f'📄 Extracted {len(chunks)} text chunks from contract.')\n",
    "    return chunks\n",
    "\n",
    "clauses = extract_contract_chunks('Track_B_Tenancy_Agreement.pdf')\n",
    "print('\\nExample clause preview:')\n",
    "print(clauses[0][:300], '...')"
   ]
  },
  {
   "cell_type": "markdown",
   "id": "2c4a7e5c",
   "metadata": {},
   "source": [
    "## 3️⃣ Generate random embeddings / 生成随机嵌入向量（不使用 API）"
   ]
  },
  {
   "cell_type": "code",
   "execution_count": 9,
   "id": "c02b6ea7",
   "metadata": {},
   "outputs": [
    {
     "name": "stdout",
     "output_type": "stream",
     "text": [
      "✅ Random embeddings generated: (50, 1536)\n"
     ]
    }
   ],
   "source": [
    "embedding_dim = 1536  # Typical size for text-embedding-3-large\n",
    "np.random.seed(42)\n",
    "embeddings = np.random.rand(len(clauses), embedding_dim).astype('float32')\n",
    "print('✅ Random embeddings generated:', embeddings.shape)"
   ]
  },
  {
   "cell_type": "markdown",
   "id": "ab5136fa",
   "metadata": {},
   "source": [
    "## 4️⃣ Build FAISS index / 建立相似度索引"
   ]
  },
  {
   "cell_type": "code",
   "execution_count": 10,
   "id": "c1d984ab",
   "metadata": {},
   "outputs": [
    {
     "name": "stdout",
     "output_type": "stream",
     "text": [
      "✅ FAISS index built successfully. Number of clauses indexed: 50\n"
     ]
    }
   ],
   "source": [
    "index = faiss.IndexFlatL2(embedding_dim)\n",
    "index.add(embeddings)\n",
    "print('✅ FAISS index built successfully. Number of clauses indexed:', index.ntotal)"
   ]
  },
  {
   "cell_type": "markdown",
   "id": "b79fa7e1",
   "metadata": {},
   "source": [
    "## 5️⃣ Retrieve relevant clauses / 输入问题并检索最相关条款"
   ]
  },
  {
   "cell_type": "code",
   "execution_count": 11,
   "id": "6d4c1bcc",
   "metadata": {},
   "outputs": [],
   "source": [
    "def embed_query_simulation(query):\n",
    "    \"\"\"\n",
    "    Generate a random embedding for query to simulate vector search.\n",
    "    为问题生成随机向量，模拟查询嵌入。\n",
    "    \"\"\"\n",
    "    np.random.seed(abs(hash(query)) % (2**32))\n",
    "    return np.random.rand(1, embedding_dim).astype('float32')\n",
    "\n",
    "def retrieve_clauses(query, k=3):\n",
    "    qvec = embed_query_simulation(query)\n",
    "    D, I = index.search(qvec, k)\n",
    "    results = [(int(I[0][i]), float(D[0][i])) for i in range(k)]\n",
    "    df = pd.DataFrame([\n",
    "        {'Rank': i+1, 'Clause_ID': idx, 'Distance': dist, 'Content': clauses[idx][:300]+'...'}\n",
    "        for i,(idx,dist) in enumerate(results)\n",
    "    ])\n",
    "    display(df)\n",
    "    return df"
   ]
  },
  {
   "cell_type": "markdown",
   "id": "979bae75",
   "metadata": {},
   "source": [
    "## 6️⃣ Demo sample queries / 示例问题演示"
   ]
  },
  {
   "cell_type": "code",
   "execution_count": 12,
   "id": "34b7765b",
   "metadata": {},
   "outputs": [
    {
     "name": "stdout",
     "output_type": "stream",
     "text": [
      "\n",
      "❓ Question: What is the diplomatic clause?\n"
     ]
    },
    {
     "data": {
      "text/html": [
       "<div>\n",
       "<style scoped>\n",
       "    .dataframe tbody tr th:only-of-type {\n",
       "        vertical-align: middle;\n",
       "    }\n",
       "\n",
       "    .dataframe tbody tr th {\n",
       "        vertical-align: top;\n",
       "    }\n",
       "\n",
       "    .dataframe thead th {\n",
       "        text-align: right;\n",
       "    }\n",
       "</style>\n",
       "<table border=\"1\" class=\"dataframe\">\n",
       "  <thead>\n",
       "    <tr style=\"text-align: right;\">\n",
       "      <th></th>\n",
       "      <th>Rank</th>\n",
       "      <th>Clause_ID</th>\n",
       "      <th>Distance</th>\n",
       "      <th>Content</th>\n",
       "    </tr>\n",
       "  </thead>\n",
       "  <tbody>\n",
       "    <tr>\n",
       "      <th>0</th>\n",
       "      <td>1</td>\n",
       "      <td>22</td>\n",
       "      <td>241.003479</td>\n",
       "      <td>(x) COMPLIANCE WITH LAW, RULES AND REGULATIONS...</td>\n",
       "    </tr>\n",
       "    <tr>\n",
       "      <th>1</th>\n",
       "      <td>2</td>\n",
       "      <td>2</td>\n",
       "      <td>244.444962</td>\n",
       "      <td>(c) PAYMENT OF OUTGOINGS\\nTo pay all charges d...</td>\n",
       "    </tr>\n",
       "    <tr>\n",
       "      <th>2</th>\n",
       "      <td>3</td>\n",
       "      <td>16</td>\n",
       "      <td>245.456818</td>\n",
       "      <td>(q) NOT TO CAUSE NUISANCE\\nNot to do or permit...</td>\n",
       "    </tr>\n",
       "  </tbody>\n",
       "</table>\n",
       "</div>"
      ],
      "text/plain": [
       "   Rank  Clause_ID    Distance  \\\n",
       "0     1         22  241.003479   \n",
       "1     2          2  244.444962   \n",
       "2     3         16  245.456818   \n",
       "\n",
       "                                             Content  \n",
       "0  (x) COMPLIANCE WITH LAW, RULES AND REGULATIONS...  \n",
       "1  (c) PAYMENT OF OUTGOINGS\\nTo pay all charges d...  \n",
       "2  (q) NOT TO CAUSE NUISANCE\\nNot to do or permit...  "
      ]
     },
     "metadata": {},
     "output_type": "display_data"
    },
    {
     "name": "stdout",
     "output_type": "stream",
     "text": [
      "--------------------------------------------------------------------------------\n",
      "\n",
      "❓ Question: Who pays for repairs?\n"
     ]
    },
    {
     "data": {
      "text/html": [
       "<div>\n",
       "<style scoped>\n",
       "    .dataframe tbody tr th:only-of-type {\n",
       "        vertical-align: middle;\n",
       "    }\n",
       "\n",
       "    .dataframe tbody tr th {\n",
       "        vertical-align: top;\n",
       "    }\n",
       "\n",
       "    .dataframe thead th {\n",
       "        text-align: right;\n",
       "    }\n",
       "</style>\n",
       "<table border=\"1\" class=\"dataframe\">\n",
       "  <thead>\n",
       "    <tr style=\"text-align: right;\">\n",
       "      <th></th>\n",
       "      <th>Rank</th>\n",
       "      <th>Clause_ID</th>\n",
       "      <th>Distance</th>\n",
       "      <th>Content</th>\n",
       "    </tr>\n",
       "  </thead>\n",
       "  <tbody>\n",
       "    <tr>\n",
       "      <th>0</th>\n",
       "      <td>1</td>\n",
       "      <td>21</td>\n",
       "      <td>240.180206</td>\n",
       "      <td>(w) PETS\\nNot to keep or permit to be kept in ...</td>\n",
       "    </tr>\n",
       "    <tr>\n",
       "      <th>1</th>\n",
       "      <td>2</td>\n",
       "      <td>32</td>\n",
       "      <td>240.728912</td>\n",
       "      <td>(b) PAYMENT OF PROPERTY TAX\\nTo pay all proper...</td>\n",
       "    </tr>\n",
       "    <tr>\n",
       "      <th>2</th>\n",
       "      <td>3</td>\n",
       "      <td>5</td>\n",
       "      <td>241.726105</td>\n",
       "      <td>(g) REPLACEMENT OF ITEMS\\nTo replace any other...</td>\n",
       "    </tr>\n",
       "  </tbody>\n",
       "</table>\n",
       "</div>"
      ],
      "text/plain": [
       "   Rank  Clause_ID    Distance  \\\n",
       "0     1         21  240.180206   \n",
       "1     2         32  240.728912   \n",
       "2     3          5  241.726105   \n",
       "\n",
       "                                             Content  \n",
       "0  (w) PETS\\nNot to keep or permit to be kept in ...  \n",
       "1  (b) PAYMENT OF PROPERTY TAX\\nTo pay all proper...  \n",
       "2  (g) REPLACEMENT OF ITEMS\\nTo replace any other...  "
      ]
     },
     "metadata": {},
     "output_type": "display_data"
    },
    {
     "name": "stdout",
     "output_type": "stream",
     "text": [
      "--------------------------------------------------------------------------------\n",
      "\n",
      "❓ Question: When should rent be paid?\n"
     ]
    },
    {
     "data": {
      "text/html": [
       "<div>\n",
       "<style scoped>\n",
       "    .dataframe tbody tr th:only-of-type {\n",
       "        vertical-align: middle;\n",
       "    }\n",
       "\n",
       "    .dataframe tbody tr th {\n",
       "        vertical-align: top;\n",
       "    }\n",
       "\n",
       "    .dataframe thead th {\n",
       "        text-align: right;\n",
       "    }\n",
       "</style>\n",
       "<table border=\"1\" class=\"dataframe\">\n",
       "  <thead>\n",
       "    <tr style=\"text-align: right;\">\n",
       "      <th></th>\n",
       "      <th>Rank</th>\n",
       "      <th>Clause_ID</th>\n",
       "      <th>Distance</th>\n",
       "      <th>Content</th>\n",
       "    </tr>\n",
       "  </thead>\n",
       "  <tbody>\n",
       "    <tr>\n",
       "      <th>0</th>\n",
       "      <td>1</td>\n",
       "      <td>39</td>\n",
       "      <td>237.710175</td>\n",
       "      <td>(d) REIMBURSEMENT OF PRO-RATA COMMISSION\\nIf t...</td>\n",
       "    </tr>\n",
       "    <tr>\n",
       "      <th>1</th>\n",
       "      <td>2</td>\n",
       "      <td>4</td>\n",
       "      <td>241.493942</td>\n",
       "      <td>(e) MAINTENANCE OF DEMISED PREMISES\\nAt the Te...</td>\n",
       "    </tr>\n",
       "    <tr>\n",
       "      <th>2</th>\n",
       "      <td>3</td>\n",
       "      <td>24</td>\n",
       "      <td>244.554016</td>\n",
       "      <td>(z) HANGING OF PICTURE FRAME\\nNot to hack any ...</td>\n",
       "    </tr>\n",
       "  </tbody>\n",
       "</table>\n",
       "</div>"
      ],
      "text/plain": [
       "   Rank  Clause_ID    Distance  \\\n",
       "0     1         39  237.710175   \n",
       "1     2          4  241.493942   \n",
       "2     3         24  244.554016   \n",
       "\n",
       "                                             Content  \n",
       "0  (d) REIMBURSEMENT OF PRO-RATA COMMISSION\\nIf t...  \n",
       "1  (e) MAINTENANCE OF DEMISED PREMISES\\nAt the Te...  \n",
       "2  (z) HANGING OF PICTURE FRAME\\nNot to hack any ...  "
      ]
     },
     "metadata": {},
     "output_type": "display_data"
    },
    {
     "name": "stdout",
     "output_type": "stream",
     "text": [
      "--------------------------------------------------------------------------------\n",
      "\n",
      "❓ Question: Do I need to repaint before moving out?\n"
     ]
    },
    {
     "data": {
      "text/html": [
       "<div>\n",
       "<style scoped>\n",
       "    .dataframe tbody tr th:only-of-type {\n",
       "        vertical-align: middle;\n",
       "    }\n",
       "\n",
       "    .dataframe tbody tr th {\n",
       "        vertical-align: top;\n",
       "    }\n",
       "\n",
       "    .dataframe thead th {\n",
       "        text-align: right;\n",
       "    }\n",
       "</style>\n",
       "<table border=\"1\" class=\"dataframe\">\n",
       "  <thead>\n",
       "    <tr style=\"text-align: right;\">\n",
       "      <th></th>\n",
       "      <th>Rank</th>\n",
       "      <th>Clause_ID</th>\n",
       "      <th>Distance</th>\n",
       "      <th>Content</th>\n",
       "    </tr>\n",
       "  </thead>\n",
       "  <tbody>\n",
       "    <tr>\n",
       "      <th>0</th>\n",
       "      <td>1</td>\n",
       "      <td>17</td>\n",
       "      <td>240.985703</td>\n",
       "      <td>(r) USE OF PREMISES\\nTo use the Premises as a ...</td>\n",
       "    </tr>\n",
       "    <tr>\n",
       "      <th>1</th>\n",
       "      <td>2</td>\n",
       "      <td>6</td>\n",
       "      <td>242.852615</td>\n",
       "      <td>(h) TO INDEMNIFY THE LANDLORD\\nTo be responsib...</td>\n",
       "    </tr>\n",
       "    <tr>\n",
       "      <th>2</th>\n",
       "      <td>3</td>\n",
       "      <td>2</td>\n",
       "      <td>245.202988</td>\n",
       "      <td>(c) PAYMENT OF OUTGOINGS\\nTo pay all charges d...</td>\n",
       "    </tr>\n",
       "  </tbody>\n",
       "</table>\n",
       "</div>"
      ],
      "text/plain": [
       "   Rank  Clause_ID    Distance  \\\n",
       "0     1         17  240.985703   \n",
       "1     2          6  242.852615   \n",
       "2     3          2  245.202988   \n",
       "\n",
       "                                             Content  \n",
       "0  (r) USE OF PREMISES\\nTo use the Premises as a ...  \n",
       "1  (h) TO INDEMNIFY THE LANDLORD\\nTo be responsib...  \n",
       "2  (c) PAYMENT OF OUTGOINGS\\nTo pay all charges d...  "
      ]
     },
     "metadata": {},
     "output_type": "display_data"
    },
    {
     "name": "stdout",
     "output_type": "stream",
     "text": [
      "--------------------------------------------------------------------------------\n"
     ]
    }
   ],
   "source": [
    "sample_questions = [\n",
    "    'What is the diplomatic clause?',\n",
    "    'Who pays for repairs?',\n",
    "    'When should rent be paid?',\n",
    "    'Do I need to repaint before moving out?'\n",
    "]\n",
    "\n",
    "for q in sample_questions:\n",
    "    print('\\n❓ Question:', q)\n",
    "    retrieve_clauses(q)\n",
    "    print('-'*80)\n"
   ]
  }
 ],
 "metadata": {
  "kernelspec": {
   "display_name": "GenAI",
   "language": "python",
   "name": "python3"
  },
  "language_info": {
   "codemirror_mode": {
    "name": "ipython",
    "version": 3
   },
   "file_extension": ".py",
   "mimetype": "text/x-python",
   "name": "python",
   "nbconvert_exporter": "python",
   "pygments_lexer": "ipython3",
   "version": "3.12.0"
  }
 },
 "nbformat": 4,
 "nbformat_minor": 5
}
