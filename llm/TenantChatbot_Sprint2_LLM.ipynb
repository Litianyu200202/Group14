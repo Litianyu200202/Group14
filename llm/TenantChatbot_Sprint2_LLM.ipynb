{
 "cells": [
  {
   "cell_type": "markdown",
   "id": "6f5c3e0d",
   "metadata": {},
   "source": [
    "\n",
    "# 🏠 Tenant Chatbot — Sprint 2 (LLM + RAG + Agent + Memory)    \n",
    "- 保留：PDF 加载、向量库、Prompt 模板、RAG 问答的原有单元  \n",
    "- 新增：`TenantChatbot` 类（多意图入口：合同检索 / 工具代理 / 对话记忆）  \n",
    "- 可选：FAISS / Chroma 后端、简单工具（租金计算）  \n"
   ]
  },
  {
   "cell_type": "markdown",
   "id": "601574e2",
   "metadata": {},
   "source": [
    "\n",
    "## 1. 导入依赖库 / Import libraries\n"
   ]
  },
  {
   "cell_type": "code",
   "execution_count": 1,
   "id": "431d57ad",
   "metadata": {},
   "outputs": [
    {
     "name": "stdout",
     "output_type": "stream",
     "text": [
      "✅ Libraries imported.\n"
     ]
    }
   ],
   "source": [
    "\n",
    "from __future__ import annotations\n",
    "\n",
    "import os\n",
    "from typing import List, Any, Dict\n",
    "\n",
    "# LangChain core\n",
    "from langchain_openai import ChatOpenAI, OpenAIEmbeddings\n",
    "from langchain.vectorstores import Chroma\n",
    "from langchain.chains import RetrievalQA, ConversationChain\n",
    "from langchain.agents import initialize_agent, AgentType\n",
    "from langchain.memory import ConversationBufferMemory\n",
    "from langchain.prompts import ChatPromptTemplate\n",
    "from langchain.tools import Tool\n",
    "from langchain.document_loaders import PyPDFLoader\n",
    "from langchain.text_splitter import RecursiveCharacterTextSplitter\n",
    "\n",
    "# Utilities\n",
    "import re\n",
    "import hashlib\n",
    "import numpy as np\n",
    "\n",
    "print('✅ Libraries imported.')"
   ]
  },
  {
   "cell_type": "markdown",
   "id": "28a0341b",
   "metadata": {},
   "source": [
    "\n",
    "## 2. 全局配置 / Global Config\n",
    "- 读取 `OPENAI_API_KEY`（推荐从环境变量中读取）  \n",
    "- 可切换向量/模型后端：`OPENAI` 或 `LOCAL`（本地伪嵌入，便于无 Key 情况下跑通流程演示）\n"
   ]
  },
  {
   "cell_type": "code",
   "execution_count": 4,
   "id": "615b5724",
   "metadata": {},
   "outputs": [
    {
     "name": "stdout",
     "output_type": "stream",
     "text": [
      "🔐 OPENAI_API_KEY set: True\n",
      "🧠 EMBEDDINGS_BACKEND = OPENAI\n",
      "💾 VECTORSTORE_BACKEND = CHROMA\n",
      "📄 PDF_PATH = Track_B_Tenancy_Agreement.pdf\n"
     ]
    }
   ],
   "source": [
    "\n",
    "# === API Key ===\n",
    "from dotenv import load_dotenv\n",
    "load_dotenv()  # 读取 .env 文件\n",
    "OPENAI_API_KEY = os.getenv('OPENAI_API_KEY', '').strip()\n",
    "\n",
    "# === Backend Switches ===\n",
    "EMBEDDINGS_BACKEND = os.getenv('EMBEDDINGS_BACKEND', 'OPENAI').upper()   # 'OPENAI' or 'LOCAL'\n",
    "VECTORSTORE_BACKEND = os.getenv('VECTORSTORE_BACKEND', 'CHROMA').upper() # 'CHROMA' (default)\n",
    "\n",
    "PDF_PATH = 'Track_B_Tenancy_Agreement.pdf'  # 请将合同放在同目录 / Put the PDF in the same folder\n",
    "\n",
    "print(f'🔐 OPENAI_API_KEY set: {bool(OPENAI_API_KEY)}')\n",
    "print(f'🧠 EMBEDDINGS_BACKEND = {EMBEDDINGS_BACKEND}')\n",
    "print(f'💾 VECTORSTORE_BACKEND = {VECTORSTORE_BACKEND}')\n",
    "print(f'📄 PDF_PATH = {PDF_PATH}')"
   ]
  },
  {
   "cell_type": "markdown",
   "id": "03f1cca7",
   "metadata": {},
   "source": [
    "\n",
    "## 3. 加载合同文档 / Load the tenancy agreement PDF\n",
    "将真实合同读入为 LangChain 文档对象，供后续分块与向量化。  \n"
   ]
  },
  {
   "cell_type": "code",
   "execution_count": 5,
   "id": "a91cc93c",
   "metadata": {},
   "outputs": [
    {
     "name": "stdout",
     "output_type": "stream",
     "text": [
      "📄 成功加载 10 页 / Loaded 10 pages.\n"
     ]
    }
   ],
   "source": [
    "\n",
    "# 原有加载逻辑（保持不动 / Kept as-is）\n",
    "try:\n",
    "    loader = PyPDFLoader(PDF_PATH)\n",
    "    docs = loader.load()\n",
    "    print(f'📄 成功加载 {len(docs)} 页 / Loaded {len(docs)} pages.')\n",
    "except Exception as e:\n",
    "    print('❗无法加载PDF，请检查文件是否存在。/ Failed to load PDF.')\n",
    "    print('Error:', e)\n",
    "    docs = []"
   ]
  },
  {
   "cell_type": "markdown",
   "id": "81713002",
   "metadata": {},
   "source": [
    "\n",
    "## 4. 向量化与知识库 / Embeddings & Vector Store\n",
    "- **保留**你的向量库思路（Chroma 默认）  \n",
    "- **新增**一个本地伪嵌入类：在无 Key 环境下也能完成演示（不可用于真实效果）\n"
   ]
  },
  {
   "cell_type": "code",
   "execution_count": 6,
   "id": "59201a7e",
   "metadata": {},
   "outputs": [
    {
     "name": "stdout",
     "output_type": "stream",
     "text": [
      "✅ 已切分为 67 个文本块 / Chunks ready.\n",
      "🧩 Chunk 0\n",
      "TENANCY AGREEMENT (PRIVATE\n",
      "CONDO/APARTMENT)\n",
      "Page 1 of 6 LEG-AG-17.16 28/07/23\n",
      "Disclaimer: This is a general document which may not be appropriate for use in all cases. When in doubt, please seek\n",
      "legal advice. In the event of a dispute, the Landlord/Tenant agree not to hold Sterling Properties Pte Lt\n",
      "--------------------------------------------------------------------------------\n",
      "🧩 Chunk 1\n",
      "been done with the consent and agreement of both parties prior to the signing of the agreement.\n",
      "TENANCY AGREEMENT (PRIVATE CONDO/APARTMENT)\n",
      "THIS AGREEMENT is made on the 20 _ JAN 2024\n",
      "BETWEEN\n",
      "Name: Peter Richardson Williams\n",
      "NRIC: S8634521G\n",
      "Address: 125 Marine Parade Road #12-08, Singapore 449735\n",
      "Ema\n",
      "--------------------------------------------------------------------------------\n",
      "🧩 Chunk 2\n",
      "successors and assigns) of the one part.\n",
      "AND\n",
      "Name: Michael Thompson Anderson\n",
      "Fin: M4782619K\n",
      "Address: c/o GlobalTech Solutions Pte Ltd\n",
      "18 Cross Street #15-02\n",
      "Singapore 048423\n",
      "Email: michael.anderson@globaltech.com.sg \n",
      "(hereinafter known as the \"Tenant\" which expression where the context so admits sha\n",
      "--------------------------------------------------------------------------------\n",
      "🧩 Chunk 3\n",
      "WHEREBY IT IS AGREED AS FOLLOWS:\n",
      "1. RENT\n",
      "The Landlord agrees to let and the Tenant agrees to take all that premises known as 88 Orchard Boulevard #15-03,\n",
      "Singapore 238863 (hereinafter called the \"Premises\") together with the furniture, fixtures and other effects therein\n",
      "(as more fully described in t\n",
      "--------------------------------------------------------------------------------\n",
      "🧩 Chunk 4\n",
      "demand in advance and clear of all deductions on or before the 22nd day of each calendar month. All payments of\n",
      "Rent shall be made to the account of the Landlord and/or its representative: Peter Richardson Williams at DBS\n",
      "Bank with account number: 012-345678-9. If the payment is by GIRO, evidence of\n",
      "--------------------------------------------------------------------------------\n"
     ]
    }
   ],
   "source": [
    "# 创建文本切分器\n",
    "text_splitter = RecursiveCharacterTextSplitter(\n",
    "    chunk_size=500,      # 每块最多500个字符\n",
    "    chunk_overlap=50,    # 相邻块重叠50字符，保证语义连续\n",
    ")\n",
    "\n",
    "# 生成分块\n",
    "splits = text_splitter.split_documents(docs)\n",
    "print(f'✅ 已切分为 {len(splits)} 个文本块 / Chunks ready.')\n",
    "#print(\"示例 Chunk 内容:\\n\", splits[5].page_content[:300])\n",
    "\n",
    "# 选择要展示的数量\n",
    "num_show = 5  \n",
    "\n",
    "for i, chunk in enumerate(splits[:num_show]):\n",
    "    print(f\"🧩 Chunk {i}\")\n",
    "    print(chunk.page_content[:300].strip())  # 只展示前300字符，避免太长\n",
    "    print(\"-\" * 80)"
   ]
  },
  {
   "cell_type": "code",
   "execution_count": 7,
   "id": "4ea55b52",
   "metadata": {},
   "outputs": [
    {
     "name": "stdout",
     "output_type": "stream",
     "text": [
      "✅ Embeddings ready: OpenAIEmbeddings (using API)\n"
     ]
    }
   ],
   "source": [
    "# 使用真实 OpenAI 嵌入器\n",
    "embeddings = OpenAIEmbeddings(\n",
    "    model=\"text-embedding-3-small\",   # 或 text-embedding-3-large\n",
    "    openai_api_key=OPENAI_API_KEY\n",
    ")\n",
    "print(\"✅ Embeddings ready: OpenAIEmbeddings (using API)\")"
   ]
  },
  {
   "cell_type": "code",
   "execution_count": 8,
   "id": "9b4a6e00",
   "metadata": {},
   "outputs": [
    {
     "name": "stdout",
     "output_type": "stream",
     "text": [
      "✅ Vector store ready: Chroma (memory)\n"
     ]
    }
   ],
   "source": [
    "\n",
    "# 构建向量数据库（默认 Chroma）/ Build vector store\n",
    "if not docs:\n",
    "    print('⚠️ 没有文档可用于构建向量库 / No docs for vector store.')\n",
    "    vectorstore = None\n",
    "else:\n",
    "    # Chroma in-memory; you can set persist_directory for persistence\n",
    "    vectorstore = Chroma.from_documents(docs, embedding=embeddings)\n",
    "    print('✅ Vector store ready: Chroma (memory)')"
   ]
  },
  {
   "cell_type": "markdown",
   "id": "55d5344f",
   "metadata": {},
   "source": [
    "\n",
    "## 5. Prompt 模板 / Prompt design  \n",
    "强制输出结构：  \n",
    "1) Short answer  2) Clause reference  3) Source snippet  \n"
   ]
  },
  {
   "cell_type": "code",
   "execution_count": 9,
   "id": "872a388b",
   "metadata": {},
   "outputs": [
    {
     "name": "stdout",
     "output_type": "stream",
     "text": [
      "🧾 Template: Contract-based Q&A Assistant Created\n"
     ]
    }
   ],
   "source": [
    "\n",
    "contract_prompt = ChatPromptTemplate.from_messages([\n",
    "    (\"system\",\n",
    "     \"You are a professional Singapore tenancy-law assistant. \"\n",
    "     \"Use the given contract context to answer clearly and cite the relevant clause.\"),\n",
    "    (\"human\",\n",
    "     \"Context:\\n{context}\\n\\n\"\n",
    "     \"Question:\\n{user_query}\\n\\n\"\n",
    "     \"Answer format:\\n\"\n",
    "     \"1. Short answer\\n\"\n",
    "     \"2. Clause reference\\n\"\n",
    "     \"3. Source snippet\")\n",
    "])\n",
    "print(\"🧾 Template: Contract-based Q&A Assistant Created\")"
   ]
  },
  {
   "cell_type": "markdown",
   "id": "bc1f0031",
   "metadata": {},
   "source": [
    "\n",
    "## 6. 基于合同的 RAG 问答 / Retrieval-Augmented Generation (RAG)\n",
    "> （保留你原本的思路，并增加健壮性检查）\n"
   ]
  },
  {
   "cell_type": "code",
   "execution_count": 10,
   "id": "cd8ff616",
   "metadata": {},
   "outputs": [
    {
     "name": "stdout",
     "output_type": "stream",
     "text": [
      "✅ RetrievalQA chain is ready.\n"
     ]
    }
   ],
   "source": [
    "\n",
    "# 初始化 LLM\n",
    "if OPENAI_API_KEY:\n",
    "    llm = ChatOpenAI(model=\"gpt-4o-mini\", temperature=0.2, api_key=OPENAI_API_KEY)\n",
    "else:\n",
    "    # 仍创建对象以保持接口一致（如果 SDK 强校验，会抛错；建议设置 Key）\n",
    "    llm = ChatOpenAI(model=\"gpt-4o-mini\", temperature=0.2, api_key=\"\")\n",
    "    print(\"⚠️ 未设置 OPENAI_API_KEY，后续真实问答将无法工作。Set OPENAI_API_KEY to use real LLM.\")\n",
    "\n",
    "# 创建 QA 链\n",
    "if vectorstore is not None:\n",
    "    qa_chain = RetrievalQA.from_chain_type(\n",
    "        llm=llm,\n",
    "        chain_type=\"stuff\",\n",
    "        retriever=vectorstore.as_retriever()\n",
    "    )\n",
    "    print('✅ RetrievalQA chain is ready.')\n",
    "else:\n",
    "    qa_chain = None\n",
    "    print('⚠️ QA chain skipped due to missing vectorstore.')"
   ]
  },
  {
   "cell_type": "markdown",
   "id": "f1f2c038",
   "metadata": {},
   "source": [
    "\n",
    "## 7. Prompt 格式化示例 / Prompt formatting example  \n"
   ]
  },
  {
   "cell_type": "code",
   "execution_count": 11,
   "id": "18c7e0fe",
   "metadata": {},
   "outputs": [
    {
     "name": "stdout",
     "output_type": "stream",
     "text": [
      "🔧 Formatted messages preview:\n",
      "[system] You are a professional Singapore tenancy-law assistant. Use the given contract context to answer clearly and cite the re...\n",
      "[human] Context:\n",
      "Clause 2(j): The tenant shall be responsible for minor repairs not exceeding S$200. Air-conditioning servicing ...\n"
     ]
    }
   ],
   "source": [
    "\n",
    "sample_query = \"Who is responsible for aircon maintenance?\"\n",
    "sample_context = (\n",
    "    \"Clause 2(j): The tenant shall be responsible for minor repairs not exceeding S$200. \"\n",
    "    \"Air-conditioning servicing to be carried out once every three months by the tenant.\"\n",
    ")\n",
    "formatted_prompt = contract_prompt.format_messages(\n",
    "    context=sample_context,\n",
    "    user_query=sample_query\n",
    ")\n",
    "print('🔧 Formatted messages preview:')\n",
    "for m in formatted_prompt:\n",
    "    print(f'[{m.type}] {m.content[:120]}...')"
   ]
  },
  {
   "cell_type": "markdown",
   "id": "afdc3fd4",
   "metadata": {},
   "source": [
    "\n",
    "## 8. 工具（示例：租金计算）/ Tools (Example: Rent Calculator)\n",
    "- 示例工具：`calculate_rent_tool`（从句子中提取**月租**和**月数**，计算总租金）  \n",
    "- 可扩展更多工具（如：押金计算、滞纳金、维修共享比例等）\n"
   ]
  },
  {
   "cell_type": "code",
   "execution_count": null,
   "id": "988efd88",
   "metadata": {},
   "outputs": [],
   "source": [
    "\n",
    "def calculate_rent_tool(query: str) -> str:\n",
    "    \"\"\"从自然语言中提取 (monthly_rent, months) 并估算总租金。\n",
    "    Extract (monthly_rent, months) from text and compute total rent.\n",
    "    示例: \"Calculate total rent if monthly rent is $2500 for 15 months.\"\n",
    "    \"\"\"\n",
    "    nums = [int(x) for x in re.findall(r\"\\d+\", query)]\n",
    "    monthly = months = None\n",
    "    if len(nums) >= 2:\n",
    "        # 朴素假设：第一个数=月租，第二个数=月数 / naive assumption\n",
    "        monthly, months = nums[0], nums[1]\n",
    "        total = monthly * months\n",
    "        return f\"💰 Estimated total rent for {months} months at ${monthly}/mo: **${total}**.\"\n",
    "    return \"Please provide both the monthly rent and the number of months (e.g., '$2500 for 15 months').\"\n",
    "\n",
    "calculate_rent = Tool.from_function(\n",
    "    func=calculate_rent_tool,\n",
    "    name=\"calculate_rent\",\n",
    "    description=\"Calculate total rent given monthly rent and number of months from natural language.\"\n",
    ")\n",
    "print('🧰 Tool ready: calculate_rent')"
   ]
  },
  {
   "cell_type": "markdown",
   "id": "04bf77b8",
   "metadata": {},
   "source": [
    "\n",
    "## 9. 记忆与 Agent / Memory & Agent\n",
    "- `ConversationBufferMemory` 记录对话上下文  \n",
    "- `initialize_agent` 构建工具代理（用于计算类问题等）\n"
   ]
  },
  {
   "cell_type": "code",
   "execution_count": null,
   "id": "32861d24",
   "metadata": {},
   "outputs": [],
   "source": [
    "\n",
    "memory = ConversationBufferMemory()\n",
    "\n",
    "agent = initialize_agent(\n",
    "    tools=[calculate_rent],\n",
    "    llm=llm,\n",
    "    agent=AgentType.STRUCTURED_CHAT_ZERO_SHOT_REACT_DESCRIPTION,\n",
    "    verbose=False\n",
    ")\n",
    "\n",
    "print('🧠 Memory ready. 🤖 Agent ready.')"
   ]
  },
  {
   "cell_type": "markdown",
   "id": "15f1e641",
   "metadata": {},
   "source": [
    "\n",
    "## 10. 集成封装：TenantChatbot 类（融合架构）  \n",
    "- **不删除**以上单元的前提下，提供一个**统一入口**用于实际调用：  \n",
    "  - 合同条款 / RAG：`RetrievalQA`  \n",
    "  - 工具 / 计算：`Agent + Tools`  \n",
    "  - 一般对话：`ConversationChain + Memory`\n"
   ]
  },
  {
   "cell_type": "code",
   "execution_count": null,
   "id": "ad1079bc",
   "metadata": {},
   "outputs": [],
   "source": [
    "\n",
    "class TenantChatbot:\n",
    "    \"\"\"统一多意图入口的租赁合同 Chatbot / Unified multi-intent Tenant Chatbot.\"\"\"\n",
    "    def __init__(self, docs, vectorstore, llm, memory, qa_chain, agent):\n",
    "        self.docs = docs\n",
    "        self.vectorstore = vectorstore\n",
    "        self.llm = llm\n",
    "        self.memory = memory\n",
    "        self.qa_chain = qa_chain\n",
    "        self.agent = agent\n",
    "        self.conversation = ConversationChain(llm=self.llm, memory=self.memory)\n",
    "\n",
    "        # 可按需扩展的关键字（可迁移到配置 / You can externalize these intent keywords）\n",
    "        self.contract_keywords = [\n",
    "            'clause', 'tenant', 'landlord', 'terminate', 'repair', 'deposit',\n",
    "            'renewal', 'maintenance', 'aircon', 'breach', 'notice', 'early termination'\n",
    "        ]\n",
    "        self.calc_keywords = ['calculate', 'rent', 'payment', 'fee', 'total']\n",
    "\n",
    "    def process_query(self, query: str) -> str:\n",
    "        q = query.lower()\n",
    "\n",
    "        # 1) 合同条款类问题 → 使用 RAG（向量检索 + LLM）\n",
    "        if any(k in q for k in self.contract_keywords):\n",
    "            if not self.qa_chain:\n",
    "                return 'RAG 未就绪：缺少向量库或 LLM 配置。/ RAG is not ready (missing vector store or LLM).'\n",
    "            return self.qa_chain.run(query)\n",
    "\n",
    "        # 2) 计算/工具类问题 → 交给 Agent 与工具\n",
    "        if any(k in q for k in self.calc_keywords):\n",
    "            try:\n",
    "                return self.agent.run(query)\n",
    "            except Exception as e:\n",
    "                return f'Agent 执行失败 / Agent failed: {e}'\n",
    "\n",
    "        # 3) 一般性交流或指导 → 走记忆会话\n",
    "        try:\n",
    "            return self.conversation.invoke({\"input\": query})[\"response\"]\n",
    "        except Exception as e:\n",
    "            return f'会话失败 / Conversation failed: {e}'\n",
    "\n",
    "print('🏗️ TenantChatbot class ready.')"
   ]
  },
  {
   "cell_type": "markdown",
   "id": "b11ab7fd",
   "metadata": {},
   "source": [
    "\n",
    "## 11. 统一入口测试 / Unified Entry Tests\n",
    "> 你可以直接修改下面的 `test_queries` 进行自测。\n"
   ]
  },
  {
   "cell_type": "code",
   "execution_count": null,
   "id": "94b5c4ee",
   "metadata": {},
   "outputs": [],
   "source": [
    "\n",
    "chatbot = TenantChatbot(\n",
    "    docs=docs,\n",
    "    vectorstore=vectorstore,\n",
    "    llm=llm,\n",
    "    memory=memory,\n",
    "    qa_chain=qa_chain,\n",
    "    agent=agent\n",
    ")\n",
    "\n",
    "test_queries = [\n",
    "    # 合同条款类（RAG）\n",
    "    \"Who is responsible for aircon maintenance?\",\n",
    "    \"Can I terminate the lease early?\",\n",
    "    \"What does the clause say about deposit refund?\",\n",
    "    # 计算类（Agent）\n",
    "    \"Calculate total rent if monthly rent is $2500 for 15 months.\",\n",
    "    # 一般对话（Memory）\n",
    "    \"I'm confused about my lease renewal. What should I check first?\"\n",
    "]\n",
    "\n",
    "for q in test_queries:\n",
    "    print('\\n' + '='*70)\n",
    "    print('Q:', q)\n",
    "    try:\n",
    "        ans = chatbot.process_query(q)\n",
    "        print('A:', ans)\n",
    "    except Exception as e:\n",
    "        print('❗Error running query:', e)"
   ]
  },
  {
   "cell_type": "markdown",
   "id": "9f4f8765",
   "metadata": {},
   "source": [
    "\n",
    "## 12. 说明与后续扩展 / Notes & Next Steps\n",
    "- 若需要 **FAISS** 版本，只需将 `Chroma.from_documents(...)` 替换为 `FAISS.from_documents(...)`（并导入相应模块）。  \n",
    "- 如果需要 **持久化**，可为 Chroma 设置 `persist_directory`，在下次启动时 `Chroma(persist_directory=..., embedding=...)` 进行加载。  \n",
    "- 工具可扩展：如**押金扣除估算**、**维修费用分担**、**滞纳金**计算等。  \n",
    "- Prompt 工程：可在 `contract_prompt` 中强制引用**具体条款编号**并限制输出格式，让报告更规范。  \n",
    "- 部署：建议结合 FastAPI/Streamlit 进行接口/前端演示，与 C 分工对接。  \n"
   ]
  }
 ],
 "metadata": {
  "kernelspec": {
   "display_name": "GenAI",
   "language": "python",
   "name": "python3"
  },
  "language_info": {
   "codemirror_mode": {
    "name": "ipython",
    "version": 3
   },
   "file_extension": ".py",
   "mimetype": "text/x-python",
   "name": "python",
   "nbconvert_exporter": "python",
   "pygments_lexer": "ipython3",
   "version": "3.12.0"
  }
 },
 "nbformat": 4,
 "nbformat_minor": 5
}
